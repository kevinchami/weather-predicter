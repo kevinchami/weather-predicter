{
 "cells": [
  {
   "cell_type": "code",
   "execution_count": null,
   "metadata": {},
   "outputs": [],
   "source": [
    "import pandas as pd\n",
    "import matplotlib.pyplot as plt\n",
    "\n",
    "weather = pd.read_csv('aysa_data.csv', index_col=\"Fecha\")\n",
    "weather"
   ]
  },
  {
   "cell_type": "markdown",
   "metadata": {},
   "source": [
    "## Cleaning data"
   ]
  },
  {
   "cell_type": "code",
   "execution_count": null,
   "metadata": {},
   "outputs": [],
   "source": [
    "weather.apply(pd.isnull).sum()/weather.shape[0]"
   ]
  },
  {
   "cell_type": "markdown",
   "metadata": {},
   "source": [
    "### Copy just the relevant columns"
   ]
  },
  {
   "cell_type": "code",
   "execution_count": null,
   "metadata": {},
   "outputs": [],
   "source": [
    "core_weather = weather[[\"Temperatura\", \"Humedad\"]].copy()\n",
    "core_weather"
   ]
  },
  {
   "cell_type": "code",
   "execution_count": 552,
   "metadata": {},
   "outputs": [
    {
     "data": {
      "text/html": [
       "<div>\n",
       "<style scoped>\n",
       "    .dataframe tbody tr th:only-of-type {\n",
       "        vertical-align: middle;\n",
       "    }\n",
       "\n",
       "    .dataframe tbody tr th {\n",
       "        vertical-align: top;\n",
       "    }\n",
       "\n",
       "    .dataframe thead th {\n",
       "        text-align: right;\n",
       "    }\n",
       "</style>\n",
       "<table border=\"1\" class=\"dataframe\">\n",
       "  <thead>\n",
       "    <tr style=\"text-align: right;\">\n",
       "      <th></th>\n",
       "      <th>Temperatura</th>\n",
       "      <th>Humedad</th>\n",
       "    </tr>\n",
       "    <tr>\n",
       "      <th>Fecha</th>\n",
       "      <th></th>\n",
       "      <th></th>\n",
       "    </tr>\n",
       "  </thead>\n",
       "  <tbody>\n",
       "  </tbody>\n",
       "</table>\n",
       "</div>"
      ],
      "text/plain": [
       "Empty DataFrame\n",
       "Columns: [Temperatura, Humedad]\n",
       "Index: []"
      ]
     },
     "execution_count": 552,
     "metadata": {},
     "output_type": "execute_result"
    }
   ],
   "source": [
    "core_weather[pd.isnull(core_weather[\"Temperatura\"])]\n",
    "core_weather[pd.isnull(core_weather[\"Humedad\"])]\n",
    "\n"
   ]
  },
  {
   "cell_type": "code",
   "execution_count": 551,
   "metadata": {},
   "outputs": [
    {
     "data": {
      "text/html": [
       "<div>\n",
       "<style scoped>\n",
       "    .dataframe tbody tr th:only-of-type {\n",
       "        vertical-align: middle;\n",
       "    }\n",
       "\n",
       "    .dataframe tbody tr th {\n",
       "        vertical-align: top;\n",
       "    }\n",
       "\n",
       "    .dataframe thead th {\n",
       "        text-align: right;\n",
       "    }\n",
       "</style>\n",
       "<table border=\"1\" class=\"dataframe\">\n",
       "  <thead>\n",
       "    <tr style=\"text-align: right;\">\n",
       "      <th></th>\n",
       "      <th>Temperatura</th>\n",
       "      <th>Humedad</th>\n",
       "    </tr>\n",
       "    <tr>\n",
       "      <th>Fecha</th>\n",
       "      <th></th>\n",
       "      <th></th>\n",
       "    </tr>\n",
       "  </thead>\n",
       "  <tbody>\n",
       "  </tbody>\n",
       "</table>\n",
       "</div>"
      ],
      "text/plain": [
       "Empty DataFrame\n",
       "Columns: [Temperatura, Humedad]\n",
       "Index: []"
      ]
     },
     "execution_count": 551,
     "metadata": {},
     "output_type": "execute_result"
    }
   ],
   "source": [
    "# Fill NaN values in 'Temperatura' with the previous value\n",
    "core_weather[\"Temperatura\"].fillna(method='ffill', inplace=True)\n",
    "core_weather[\"Humedad\"].fillna(method='ffill', inplace=True)\n",
    "core_weather[pd.isnull(core_weather[\"Humedad\"])]\n",
    "core_weather[pd.isnull(core_weather[\"Temperatura\"])]\n",
    "\n"
   ]
  },
  {
   "cell_type": "code",
   "execution_count": null,
   "metadata": {},
   "outputs": [],
   "source": [
    "core_weather.dtypes"
   ]
  },
  {
   "cell_type": "code",
   "execution_count": null,
   "metadata": {},
   "outputs": [],
   "source": [
    "# Convert 'Temperatura' and 'Humedad' to numeric\n",
    "core_weather[\"Temperatura\"] = core_weather[\"Temperatura\"].str.replace(',', '.').astype(float)\n",
    "core_weather[\"Humedad\"] = core_weather[\"Humedad\"].str.replace(',', '.').astype(float)\n",
    "\n",
    "# Check the data types again\n",
    "core_weather.dtypes\n",
    "#core_weather\n"
   ]
  },
  {
   "cell_type": "code",
   "execution_count": null,
   "metadata": {},
   "outputs": [],
   "source": [
    "core_weather.index"
   ]
  },
  {
   "cell_type": "code",
   "execution_count": null,
   "metadata": {},
   "outputs": [],
   "source": [
    "core_weather.index = pd.to_datetime(core_weather.index)\n",
    "core_weather.index.month\n"
   ]
  },
  {
   "cell_type": "markdown",
   "metadata": {},
   "source": [
    "## Start Analysis"
   ]
  },
  {
   "cell_type": "code",
   "execution_count": null,
   "metadata": {},
   "outputs": [],
   "source": [
    "# just take one temperature and humidity per day\n",
    "daily_temp = core_weather.between_time(\"14:00\", \"14:00\").resample('D').first()\n",
    "daily_temp\n"
   ]
  },
  {
   "cell_type": "code",
   "execution_count": null,
   "metadata": {},
   "outputs": [],
   "source": [
    "## Plot daily temperatures at 14:00\n",
    "plt.figure(figsize=(12, 6))\n",
    "plt.plot(daily_temp.index, daily_temp['Temperatura'], label='Temperature at 14:00', color='blue')\n",
    "plt.xlabel('Date')\n",
    "plt.ylabel('Temperature (°C)')\n",
    "plt.title('Daily Temperatures at 14:00')\n",
    "plt.legend()\n",
    "plt.grid(True)\n",
    "plt.show()"
   ]
  },
  {
   "cell_type": "code",
   "execution_count": null,
   "metadata": {},
   "outputs": [],
   "source": [
    "## Plot daily temperatures at 14:00\n",
    "plt.figure(figsize=(12, 6))\n",
    "plt.plot(daily_temp.index, daily_temp['Humedad'], label='Humedad at 14:00', color='red')\n",
    "plt.xlabel('Date')\n",
    "plt.ylabel('Humedad')\n",
    "plt.title('Daily Humedad at 14:00')\n",
    "plt.legend()\n",
    "plt.grid(True)\n",
    "plt.show()"
   ]
  },
  {
   "cell_type": "code",
   "execution_count": null,
   "metadata": {},
   "outputs": [],
   "source": [
    "daily_temp.index.year.value_counts().sort_index()"
   ]
  },
  {
   "cell_type": "code",
   "execution_count": null,
   "metadata": {},
   "outputs": [],
   "source": [
    "## Calculate the monthly average temperature for each year\n",
    "monthly_avg_temp = daily_temp.resample('M').mean()\n",
    "\n",
    "# Group by year and month for plotting\n",
    "monthly_avg_temp['Year'] = monthly_avg_temp.index.year\n",
    "monthly_avg_temp['Month'] = monthly_avg_temp.index.month\n",
    "monthly_avg_grouped = monthly_avg_temp.groupby(['Year', 'Month']).mean()\n",
    "\n",
    "# Print the monthly average temperatures\n",
    "print(monthly_avg_grouped)\n",
    "\n",
    "\n",
    "# Plot monthly average temperatures\n",
    "fig, ax = plt.subplots(figsize=(12, 6))\n",
    "\n",
    "for year, group in monthly_avg_temp.groupby('Year'):\n",
    "    ax.plot(group.index.month, group['Temperatura'], label=str(year))\n",
    "\n",
    "ax.set_xticks(range(1, 13))\n",
    "ax.set_xticklabels(['Jan', 'Feb', 'Mar', 'Apr', 'May', 'Jun', 'Jul', 'Aug', 'Sep', 'Oct', 'Nov', 'Dec'])\n",
    "ax.set_xlabel('Month')\n",
    "ax.set_ylabel('Temperature (°C)')\n",
    "ax.set_title('Monthly Average Temperature for Each Year')\n",
    "ax.legend(title='Year')\n",
    "ax.grid(True)\n",
    "plt.show()"
   ]
  },
  {
   "cell_type": "code",
   "execution_count": null,
   "metadata": {},
   "outputs": [],
   "source": [
    "# Create a new column 'target' containing the next day's temperature\n",
    "daily_temp[\"target\"] = daily_temp[\"Temperatura\"].shift(-1)\n",
    "daily_temp = daily_temp.iloc[:-1,:].copy()\n",
    "daily_temp"
   ]
  },
  {
   "cell_type": "markdown",
   "metadata": {},
   "source": [
    "### Train the data"
   ]
  },
  {
   "cell_type": "code",
   "execution_count": null,
   "metadata": {},
   "outputs": [],
   "source": [
    "from sklearn.linear_model import Ridge\n",
    "\n",
    "reg = Ridge(alpha=.1)"
   ]
  },
  {
   "cell_type": "code",
   "execution_count": null,
   "metadata": {},
   "outputs": [],
   "source": [
    "predictors = [\"Temperatura\", \"Humedad\"]\n"
   ]
  },
  {
   "cell_type": "code",
   "execution_count": null,
   "metadata": {},
   "outputs": [],
   "source": [
    "train = daily_temp.loc[:'31/08/2021']\n",
    "# Forward fill NaN values in the train DataFrame\n",
    "train.fillna(method='ffill', inplace=True)\n"
   ]
  },
  {
   "cell_type": "code",
   "execution_count": null,
   "metadata": {},
   "outputs": [],
   "source": [
    "test = daily_temp.loc['01/09/2021':]\n",
    "# Forward fill NaN values in the train DataFrame\n",
    "test.fillna(method='ffill', inplace=True)\n"
   ]
  },
  {
   "cell_type": "code",
   "execution_count": null,
   "metadata": {},
   "outputs": [],
   "source": [
    "print(train[pd.isnull(train).any(axis=1)])\n",
    "train.dropna(inplace=True)\n"
   ]
  },
  {
   "cell_type": "code",
   "execution_count": null,
   "metadata": {},
   "outputs": [],
   "source": [
    "reg.fit(train[predictors], train[\"target\"])"
   ]
  },
  {
   "cell_type": "code",
   "execution_count": null,
   "metadata": {},
   "outputs": [],
   "source": [
    "predictions = reg.predict(test[predictors])"
   ]
  },
  {
   "cell_type": "code",
   "execution_count": null,
   "metadata": {},
   "outputs": [],
   "source": [
    "from sklearn.metrics import mean_absolute_error"
   ]
  },
  {
   "cell_type": "code",
   "execution_count": null,
   "metadata": {},
   "outputs": [],
   "source": [
    "mean_absolute_error(test[\"target\"], predictions)"
   ]
  },
  {
   "cell_type": "code",
   "execution_count": null,
   "metadata": {},
   "outputs": [],
   "source": [
    "combined = pd.concat([test[\"target\"], pd.Series(predictions, index=test.index)], axis=1) \n",
    "combined.columns = [\"actual\", \"predicted\"]\n",
    "combined"
   ]
  },
  {
   "cell_type": "code",
   "execution_count": null,
   "metadata": {},
   "outputs": [],
   "source": [
    "combined.plot()"
   ]
  },
  {
   "cell_type": "code",
   "execution_count": null,
   "metadata": {},
   "outputs": [],
   "source": [
    "reg.coef_"
   ]
  },
  {
   "cell_type": "markdown",
   "metadata": {},
   "source": [
    "## Create future predictions"
   ]
  },
  {
   "cell_type": "code",
   "execution_count": null,
   "metadata": {},
   "outputs": [],
   "source": [
    "print(daily_temp)"
   ]
  },
  {
   "cell_type": "code",
   "execution_count": null,
   "metadata": {},
   "outputs": [],
   "source": [
    "def create_predictions(predictors, daily_temp, reg):\n",
    "    train = daily_temp.loc[:'31/12/2021']\n",
    "    test = daily_temp.loc['01/01/2022':]\n",
    "    reg.fit(train[predictors], train[\"target\"])\n",
    "    predictions = reg.predict(test[predictors])\n",
    "    error = mean_absolute_error(test[\"target\"], predictions)\n",
    "    combined = pd.concat([test[\"target\"], pd.Series(predictions, index=test.index)], axis=1)\n",
    "    combined.columns = [\"actual\", \"predicted\"]\n",
    "    return error, combined\n"
   ]
  },
  {
   "cell_type": "code",
   "execution_count": null,
   "metadata": {},
   "outputs": [],
   "source": [
    "daily_temp[\"month_max\"] = daily_temp[\"Temperatura\"].rolling(30).max()\n",
    "daily_temp[\"month_min\"] = daily_temp[\"Temperatura\"].rolling(30).min()\n",
    "\n",
    "#daily_temp\n"
   ]
  },
  {
   "cell_type": "code",
   "execution_count": null,
   "metadata": {},
   "outputs": [],
   "source": [
    "daily_temp[\"month_day_max\"] = daily_temp[\"month_max\"] / daily_temp[\"Temperatura\"]"
   ]
  },
  {
   "cell_type": "code",
   "execution_count": null,
   "metadata": {},
   "outputs": [],
   "source": [
    "#daily_temp[\"max_min\"] = daily_temp"
   ]
  },
  {
   "cell_type": "code",
   "execution_count": null,
   "metadata": {},
   "outputs": [],
   "source": [
    "daily_temp = daily_temp.iloc[30:,:].copy()\n",
    "daily_temp"
   ]
  },
  {
   "cell_type": "code",
   "execution_count": null,
   "metadata": {},
   "outputs": [],
   "source": [
    "predictors = [\"Temperatura\", \"Humedad\", \"month_max\", \"month_day_max\"]"
   ]
  },
  {
   "cell_type": "code",
   "execution_count": null,
   "metadata": {},
   "outputs": [],
   "source": [
    "error, combined = create_predictions(predictors, daily_temp, reg)\n",
    "error"
   ]
  },
  {
   "cell_type": "code",
   "execution_count": null,
   "metadata": {},
   "outputs": [],
   "source": [
    "combined.plot()"
   ]
  },
  {
   "cell_type": "code",
   "execution_count": null,
   "metadata": {},
   "outputs": [],
   "source": [
    "# Define a function to compute the expanding mean\n",
    "def expanding_monthly_mean(group):\n",
    "    return group.expanding().mean()\n",
    "\n",
    "# Apply the expanding mean function to each group of months\n",
    "monthly_avg = daily_temp[\"Temperatura\"].groupby(daily_temp.index.to_period('M')).apply(expanding_monthly_mean)\n",
    "\n",
    "# Flatten the index and reindex back to the original DataFrame index\n",
    "monthly_avg.index = monthly_avg.index.droplevel(0)\n",
    "\n",
    "# Add the calculated monthly average as a new column in the daily_temp DataFrame\n",
    "daily_temp[\"monthly_avg\"] = monthly_avg\n",
    "\n",
    "# Display the result\n",
    "print(daily_temp.head(15))\n"
   ]
  },
  {
   "cell_type": "code",
   "execution_count": null,
   "metadata": {},
   "outputs": [],
   "source": [
    "# Define a function to compute the expanding mean per day of the year\n",
    "def expanding_day_of_year_mean(group):\n",
    "    return group.expanding().mean()\n",
    "\n",
    "# Apply the expanding mean function to each group of days of the year\n",
    "day_of_year_avg = daily_temp[\"Temperatura\"].groupby(daily_temp.index.day_of_year).apply(expanding_day_of_year_mean)\n",
    "\n",
    "# Flatten the index and reindex back to the original DataFrame index\n",
    "day_of_year_avg.index = day_of_year_avg.index.droplevel(0)\n",
    "\n",
    "# Add the calculated day of the year average as a new column in the daily_temp DataFrame\n",
    "daily_temp[\"day_of_year_avg\"] = day_of_year_avg\n",
    "\n",
    "# Display the result\n",
    "#print(daily_temp.head(15))\n"
   ]
  },
  {
   "cell_type": "code",
   "execution_count": null,
   "metadata": {},
   "outputs": [],
   "source": [
    "predictors = [\"Temperatura\", \"Humedad\", \"month_max\", \"monthly_avg\", \"day_of_year_avg\"]"
   ]
  },
  {
   "cell_type": "code",
   "execution_count": null,
   "metadata": {},
   "outputs": [],
   "source": [
    "error, combined = create_predictions(predictors, daily_temp, reg)\n",
    "\n",
    "error"
   ]
  },
  {
   "cell_type": "markdown",
   "metadata": {},
   "source": [
    "## Diagnosis"
   ]
  },
  {
   "cell_type": "code",
   "execution_count": null,
   "metadata": {},
   "outputs": [],
   "source": [
    "reg.coef_"
   ]
  },
  {
   "cell_type": "code",
   "execution_count": null,
   "metadata": {},
   "outputs": [],
   "source": [
    "daily_temp.corr()[\"target\"]"
   ]
  },
  {
   "cell_type": "code",
   "execution_count": null,
   "metadata": {},
   "outputs": [],
   "source": [
    "combined[\"diff\"] = (combined[\"actual\"] - combined[\"predicted\"]).abs()\n",
    "combined.sort_values(\"diff\", ascending=False).head()"
   ]
  },
  {
   "cell_type": "code",
   "execution_count": null,
   "metadata": {},
   "outputs": [],
   "source": [
    "# Function to predict the average temperature for a given future date's week using historical monthly averages\n",
    "def predict_weekly_average_future(date_str, daily_temp):\n",
    "    try:\n",
    "        # Parse the input date\n",
    "        input_date = pd.to_datetime(date_str, format='%d/%m/%Y')\n",
    "    except ValueError:\n",
    "        raise ValueError(\"Invalid date format. Please use dd/mm/yyyy.\")\n",
    "\n",
    "    # Extract the month from the input date\n",
    "    target_month = input_date.month\n",
    "\n",
    "    # Calculate the mean temperature for the target month using historical data\n",
    "    monthly_avg_temp = daily_temp[daily_temp.index.month == target_month][\"monthly_avg\"].mean()\n",
    "\n",
    "    # Assume that the weekly average temperature for the given week will be the same as the historical monthly average\n",
    "    return monthly_avg_temp\n",
    "\n",
    "# Main function to interact with the user\n",
    "def main():\n",
    "    date_str = input(\"Enter a date (dd/mm/yyyy) to predict the average temperature for the following week: \")\n",
    "    try:\n",
    "        weekly_avg = predict_weekly_average_future(date_str, daily_temp)\n",
    "        print(f\"The predicted average temperature for the week starting on {date_str} is: {weekly_avg:.2f} °C\")\n",
    "    except ValueError as e:\n",
    "        print(e)\n",
    "\n",
    "# Uncomment this line to test directly\n",
    "#main()\n"
   ]
  },
  {
   "cell_type": "code",
   "execution_count": null,
   "metadata": {},
   "outputs": [],
   "source": [
    "import pandas as pd\n",
    "import matplotlib.pyplot as plt\n",
    "from sklearn.linear_model import Ridge\n",
    "from sklearn.metrics import mean_absolute_error\n",
    "import datetime\n",
    "\n",
    "# Function to predict temperature for a specific date using the trained model\n",
    "def predict_specific_date(date_str, predictors, daily_temp, reg):\n",
    "    try:\n",
    "        # Parse the input date\n",
    "        input_date = pd.to_datetime(date_str, format='%d/%m/%Y')\n",
    "    except ValueError:\n",
    "        raise ValueError(\"Invalid date format. Please use dd/mm/yyyy.\")\n",
    "\n",
    "    # Prepare future predictors based on the available data\n",
    "    last_known_values = daily_temp.iloc[-1][predictors]\n",
    "    future_df = pd.DataFrame([last_known_values], index=[input_date], columns=predictors)\n",
    "\n",
    "    # Fill any missing values with forward fill\n",
    "    future_df.fillna(method='ffill', inplace=True)\n",
    "\n",
    "    # Predict the temperature using the trained model\n",
    "    predicted_temp = reg.predict(future_df[predictors])[0]\n",
    "    \n",
    "    return predicted_temp\n",
    "\n",
    "# Historical monthly average prediction function\n",
    "def predict_weekly_average_future(date_str, daily_temp):\n",
    "    try:\n",
    "        # Parse the input date\n",
    "        input_date = pd.to_datetime(date_str, format='%d/%m/%Y')\n",
    "    except ValueError:\n",
    "        raise ValueError(\"Invalid date format. Please use dd/mm/yyyy.\")\n",
    "\n",
    "    # Extract the month from the input date\n",
    "    target_month = input_date.month\n",
    "\n",
    "    # Calculate the mean temperature for the target month using historical data\n",
    "    monthly_avg_temp = daily_temp[daily_temp.index.month == target_month][\"monthly_avg\"].mean()\n",
    "\n",
    "    return monthly_avg_temp\n",
    "\n",
    "# Compare the model's prediction with the historical average prediction\n",
    "def compare_predictions(date_str, predictors, daily_temp, reg):\n",
    "    model_prediction = predict_specific_date(date_str, predictors, daily_temp, reg)\n",
    "    historical_prediction = predict_weekly_average_future(date_str, daily_temp)\n",
    "\n",
    "    print(f\"Prediction using the model: {model_prediction:.2f} °C\")\n",
    "    print(f\"Prediction using historical monthly averages: {historical_prediction:.2f} °C\")\n",
    "\n",
    "# Example usage\n",
    "date_str = \"19/12/2026\"\n",
    "predictors = [\"Temperatura\", \"Humedad\", \"month_max\", \"monthly_avg\", \"day_of_year_avg\"]\n",
    "compare_predictions(date_str, predictors, daily_temp, reg)\n"
   ]
  },
  {
   "cell_type": "code",
   "execution_count": null,
   "metadata": {},
   "outputs": [],
   "source": [
    "daily_temp"
   ]
  },
  {
   "cell_type": "code",
   "execution_count": null,
   "metadata": {},
   "outputs": [],
   "source": [
    "def examine_last_predictors(predictors, daily_temp):\n",
    "    last_known_values = daily_temp.iloc[-1][predictors]\n",
    "    print(\"Last known predictors used:\")\n",
    "    print(last_known_values)\n",
    "\n",
    "# Example usage\n",
    "examine_last_predictors(predictors, daily_temp)\n"
   ]
  },
  {
   "cell_type": "code",
   "execution_count": null,
   "metadata": {},
   "outputs": [],
   "source": [
    "# Review historical monthly averages for December\n",
    "def review_monthly_averages(month, daily_temp):\n",
    "    historical_data = daily_temp[daily_temp.index.month == month][\"monthly_avg\"]\n",
    "    print(f\"Historical monthly averages for month {month}:\")\n",
    "    print(historical_data)\n",
    "\n",
    "# Example usage for December\n",
    "review_monthly_averages(12, daily_temp)\n"
   ]
  },
  {
   "cell_type": "code",
   "execution_count": null,
   "metadata": {},
   "outputs": [],
   "source": [
    "# Recalculate the monthly average\n",
    "def calculate_monthly_avg(daily_temp):\n",
    "    monthly_avg = daily_temp[\"Temperatura\"].groupby(daily_temp.index.to_period('M')).apply(lambda x: x.expanding().mean())\n",
    "    monthly_avg.index = monthly_avg.index.droplevel(0)\n",
    "    daily_temp[\"monthly_avg\"] = monthly_avg\n",
    "    return daily_temp\n",
    "\n",
    "daily_temp = calculate_monthly_avg(daily_temp)\n",
    "daily_temp\n"
   ]
  },
  {
   "cell_type": "code",
   "execution_count": null,
   "metadata": {},
   "outputs": [],
   "source": [
    "def retrain_model(daily_temp, predictors):\n",
    "    train = daily_temp.loc[:'2021-08-31']\n",
    "    test = daily_temp.loc['2021-09-01':]\n",
    "    reg = Ridge(alpha=0.1)\n",
    "    train.fillna(method='ffill', inplace=True)\n",
    "    reg.fit(train[predictors], train[\"target\"])\n",
    "    return reg\n",
    "\n",
    "# Retrain the model with the refined features\n",
    "reg = retrain_model(daily_temp, predictors)\n"
   ]
  },
  {
   "cell_type": "code",
   "execution_count": null,
   "metadata": {},
   "outputs": [],
   "source": [
    "# Re-comparison after retraining\n",
    "compare_predictions(date_str, predictors, daily_temp, reg)\n"
   ]
  }
 ],
 "metadata": {
  "kernelspec": {
   "display_name": "base",
   "language": "python",
   "name": "python3"
  },
  "language_info": {
   "codemirror_mode": {
    "name": "ipython",
    "version": 3
   },
   "file_extension": ".py",
   "mimetype": "text/x-python",
   "name": "python",
   "nbconvert_exporter": "python",
   "pygments_lexer": "ipython3",
   "version": "3.11.5"
  }
 },
 "nbformat": 4,
 "nbformat_minor": 2
}
